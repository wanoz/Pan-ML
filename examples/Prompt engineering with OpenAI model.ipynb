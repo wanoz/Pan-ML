{
 "cells": [
  {
   "cell_type": "code",
   "execution_count": 1,
   "id": "acad3dd5",
   "metadata": {},
   "outputs": [],
   "source": [
    "from panml.models import ModelPack"
   ]
  },
  {
   "cell_type": "code",
   "execution_count": 2,
   "id": "ca52877a",
   "metadata": {},
   "outputs": [],
   "source": [
    "# Read OpenAI API key\n",
    "with open('openai_key.txt') as f:\n",
    "    lines = f.readlines()\n",
    "openai_key = lines[0]\n",
    "\n",
    "lm = ModelPack(model='text-davinci-002', source='openai', api_key=openai_key)"
   ]
  },
  {
   "cell_type": "code",
   "execution_count": 3,
   "id": "791360c7",
   "metadata": {},
   "outputs": [
    {
     "data": {
      "text/plain": [
       "'\\nThe best way to live a healthy lifestyle is to eat healthy foods, get regular exercise, and get enough sleep.'"
      ]
     },
     "execution_count": 3,
     "metadata": {},
     "output_type": "execute_result"
    }
   ],
   "source": [
    "output = lm.predict('What is the best way to live a healthy lifestyle?', display_probability=True)\n",
    "output['text']"
   ]
  },
  {
   "cell_type": "code",
   "execution_count": 4,
   "id": "139295e4",
   "metadata": {},
   "outputs": [
    {
     "data": {
      "text/plain": [
       "[{'token': '\\n', 'probability': 0.9912219047546387},\n",
       " {'token': 'The', 'probability': 0.4048622250556946},\n",
       " {'token': ' best', 'probability': 0.9556434750556946},\n",
       " {'token': ' way', 'probability': 0.9988648295402527},\n",
       " {'token': ' to', 'probability': 0.9993075728416443},\n",
       " {'token': ' live', 'probability': 0.9954437613487244},\n",
       " {'token': ' a', 'probability': 0.9993982911109924},\n",
       " {'token': ' healthy', 'probability': 0.9941176176071167},\n",
       " {'token': ' lifestyle', 'probability': 0.9997026920318604},\n",
       " {'token': ' is', 'probability': 0.9964386224746704},\n",
       " {'token': ' to', 'probability': 0.6151031255722046},\n",
       " {'token': ' eat', 'probability': 0.7291167378425598},\n",
       " {'token': ' healthy', 'probability': 0.7256243824958801},\n",
       " {'token': ' foods', 'probability': 0.9905632734298706},\n",
       " {'token': ',', 'probability': 0.9961172342300415},\n",
       " {'token': ' get', 'probability': 0.5721343159675598},\n",
       " {'token': ' regular', 'probability': 0.5780864953994751},\n",
       " {'token': ' exercise', 'probability': 0.997109591960907},\n",
       " {'token': ',', 'probability': 0.9999945759773254},\n",
       " {'token': ' and', 'probability': 0.9986430406570435},\n",
       " {'token': ' get', 'probability': 0.9838126301765442},\n",
       " {'token': ' enough', 'probability': 0.6082170009613037},\n",
       " {'token': ' sleep', 'probability': 0.993097722530365},\n",
       " {'token': '.', 'probability': 0.986352801322937}]"
      ]
     },
     "execution_count": 4,
     "metadata": {},
     "output_type": "execute_result"
    }
   ],
   "source": [
    "output['probability']"
   ]
  },
  {
   "cell_type": "code",
   "execution_count": 9,
   "id": "596630e1",
   "metadata": {},
   "outputs": [
    {
     "data": {
      "text/plain": [
       "'\\n\\nThis is a healthy living plan that you can follow for one week which includes eating three healthy meals each day with lean protein, fresh fruits and vegetables, and whole grains. It also includes exercising for 30 minutes every day, getting at least eight hours of sleep each night, drinking plenty of water and avoiding sugary drinks, taking a multivitamin each day, and avoiding smoking and excessive alcohol consumption.'"
      ]
     },
     "execution_count": 9,
     "metadata": {},
     "output_type": "execute_result"
    }
   ],
   "source": [
    "prompts = [\n",
    "    {'prepend': 'you are a sports coach'},\n",
    "    {'prepend': 'produce a daily exercise plan for one week'},\n",
    "    {'prepend': 'summarise to the original question'},\n",
    "]\n",
    "\n",
    "output = lm.predict('What is the best way to live a healthy lifestyle?', prompt_modifier=prompts, max_tokens=600)\n",
    "output['text']"
   ]
  },
  {
   "cell_type": "code",
   "execution_count": 11,
   "id": "8398482c",
   "metadata": {},
   "outputs": [
    {
     "name": "stdout",
     "output_type": "stream",
     "text": [
      "x, y = 19, None\n",
      "\n",
      "def Fibonacci(x): \n",
      "    if x<0: \n",
      "        print(\"Incorrect input\") \n",
      "    elif x==1: \n",
      "        return 0\n",
      "    elif x==2: \n",
      "        return 1\n",
      "    else: \n",
      "        return Fibonacci(x-1)+Fibonacci(x-2) \n",
      "\n",
      "y = Fibonacci(x)\n",
      "\n",
      "Answer: 2584\n"
     ]
    }
   ],
   "source": [
    "code = lm.predict_code('calculate the fibonacci sequence using input', x=19, language='python')\n",
    "print(code)\n",
    "exec(code)\n",
    "print(f'\\nAnswer: {y}')"
   ]
  },
  {
   "cell_type": "code",
   "execution_count": null,
   "id": "e2e7265a",
   "metadata": {},
   "outputs": [],
   "source": []
  }
 ],
 "metadata": {
  "kernelspec": {
   "display_name": "Python 3 (ipykernel)",
   "language": "python",
   "name": "python3"
  },
  "language_info": {
   "codemirror_mode": {
    "name": "ipython",
    "version": 3
   },
   "file_extension": ".py",
   "mimetype": "text/x-python",
   "name": "python",
   "nbconvert_exporter": "python",
   "pygments_lexer": "ipython3",
   "version": "3.9.6"
  }
 },
 "nbformat": 4,
 "nbformat_minor": 5
}
